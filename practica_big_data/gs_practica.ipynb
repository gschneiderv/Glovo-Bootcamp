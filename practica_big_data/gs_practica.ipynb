{
 "cells": [
  {
   "cell_type": "code",
   "execution_count": 3,
   "metadata": {},
   "outputs": [],
   "source": [
    "import pandas as pd"
   ]
  },
  {
   "cell_type": "markdown",
   "metadata": {},
   "source": [
    "Cargar datos"
   ]
  },
  {
   "cell_type": "code",
   "execution_count": 4,
   "metadata": {},
   "outputs": [
    {
     "data": {
      "text/html": [
       "<div>\n",
       "<style scoped>\n",
       "    .dataframe tbody tr th:only-of-type {\n",
       "        vertical-align: middle;\n",
       "    }\n",
       "\n",
       "    .dataframe tbody tr th {\n",
       "        vertical-align: top;\n",
       "    }\n",
       "\n",
       "    .dataframe thead th {\n",
       "        text-align: right;\n",
       "    }\n",
       "</style>\n",
       "<table border=\"1\" class=\"dataframe\">\n",
       "  <thead>\n",
       "    <tr style=\"text-align: right;\">\n",
       "      <th></th>\n",
       "      <th>#</th>\n",
       "      <th>Name</th>\n",
       "      <th>Type 1</th>\n",
       "      <th>Type 2</th>\n",
       "      <th>Total</th>\n",
       "      <th>HP</th>\n",
       "      <th>Attack</th>\n",
       "      <th>Defense</th>\n",
       "      <th>Sp. Atk</th>\n",
       "      <th>Sp. Def</th>\n",
       "      <th>Speed</th>\n",
       "      <th>Generation</th>\n",
       "      <th>Legendary</th>\n",
       "    </tr>\n",
       "  </thead>\n",
       "  <tbody>\n",
       "    <tr>\n",
       "      <th>0</th>\n",
       "      <td>1</td>\n",
       "      <td>Bulbasaur</td>\n",
       "      <td>Grass</td>\n",
       "      <td>Poison</td>\n",
       "      <td>318</td>\n",
       "      <td>45</td>\n",
       "      <td>49</td>\n",
       "      <td>49</td>\n",
       "      <td>65</td>\n",
       "      <td>65</td>\n",
       "      <td>45</td>\n",
       "      <td>1</td>\n",
       "      <td>False</td>\n",
       "    </tr>\n",
       "    <tr>\n",
       "      <th>1</th>\n",
       "      <td>2</td>\n",
       "      <td>Ivysaur</td>\n",
       "      <td>Grass</td>\n",
       "      <td>Poison</td>\n",
       "      <td>405</td>\n",
       "      <td>60</td>\n",
       "      <td>62</td>\n",
       "      <td>63</td>\n",
       "      <td>80</td>\n",
       "      <td>80</td>\n",
       "      <td>60</td>\n",
       "      <td>1</td>\n",
       "      <td>False</td>\n",
       "    </tr>\n",
       "    <tr>\n",
       "      <th>2</th>\n",
       "      <td>3</td>\n",
       "      <td>Venusaur</td>\n",
       "      <td>Grass</td>\n",
       "      <td>Poison</td>\n",
       "      <td>525</td>\n",
       "      <td>80</td>\n",
       "      <td>82</td>\n",
       "      <td>83</td>\n",
       "      <td>100</td>\n",
       "      <td>100</td>\n",
       "      <td>80</td>\n",
       "      <td>1</td>\n",
       "      <td>False</td>\n",
       "    </tr>\n",
       "    <tr>\n",
       "      <th>3</th>\n",
       "      <td>3</td>\n",
       "      <td>VenusaurMega Venusaur</td>\n",
       "      <td>Grass</td>\n",
       "      <td>Poison</td>\n",
       "      <td>625</td>\n",
       "      <td>80</td>\n",
       "      <td>100</td>\n",
       "      <td>123</td>\n",
       "      <td>122</td>\n",
       "      <td>120</td>\n",
       "      <td>80</td>\n",
       "      <td>1</td>\n",
       "      <td>False</td>\n",
       "    </tr>\n",
       "    <tr>\n",
       "      <th>4</th>\n",
       "      <td>4</td>\n",
       "      <td>Charmander</td>\n",
       "      <td>Fire</td>\n",
       "      <td>NaN</td>\n",
       "      <td>309</td>\n",
       "      <td>39</td>\n",
       "      <td>52</td>\n",
       "      <td>43</td>\n",
       "      <td>60</td>\n",
       "      <td>50</td>\n",
       "      <td>65</td>\n",
       "      <td>1</td>\n",
       "      <td>False</td>\n",
       "    </tr>\n",
       "  </tbody>\n",
       "</table>\n",
       "</div>"
      ],
      "text/plain": [
       "   #                   Name Type 1  Type 2  Total  HP  Attack  Defense  \\\n",
       "0  1              Bulbasaur  Grass  Poison    318  45      49       49   \n",
       "1  2                Ivysaur  Grass  Poison    405  60      62       63   \n",
       "2  3               Venusaur  Grass  Poison    525  80      82       83   \n",
       "3  3  VenusaurMega Venusaur  Grass  Poison    625  80     100      123   \n",
       "4  4             Charmander   Fire     NaN    309  39      52       43   \n",
       "\n",
       "   Sp. Atk  Sp. Def  Speed  Generation  Legendary  \n",
       "0       65       65     45           1      False  \n",
       "1       80       80     60           1      False  \n",
       "2      100      100     80           1      False  \n",
       "3      122      120     80           1      False  \n",
       "4       60       50     65           1      False  "
      ]
     },
     "execution_count": 4,
     "metadata": {},
     "output_type": "execute_result"
    }
   ],
   "source": [
    "# Importamos el dataset de los datos de los pokemon\n",
    "df = pd.read_csv(\"dataset_final.csv\")\n",
    "df.head()\n"
   ]
  },
  {
   "cell_type": "code",
   "execution_count": 5,
   "metadata": {},
   "outputs": [
    {
     "data": {
      "text/html": [
       "<div>\n",
       "<style scoped>\n",
       "    .dataframe tbody tr th:only-of-type {\n",
       "        vertical-align: middle;\n",
       "    }\n",
       "\n",
       "    .dataframe tbody tr th {\n",
       "        vertical-align: top;\n",
       "    }\n",
       "\n",
       "    .dataframe thead th {\n",
       "        text-align: right;\n",
       "    }\n",
       "</style>\n",
       "<table border=\"1\" class=\"dataframe\">\n",
       "  <thead>\n",
       "    <tr style=\"text-align: right;\">\n",
       "      <th></th>\n",
       "      <th>Name</th>\n",
       "    </tr>\n",
       "  </thead>\n",
       "  <tbody>\n",
       "    <tr>\n",
       "      <th>0</th>\n",
       "      <td>Bulbasaur</td>\n",
       "    </tr>\n",
       "    <tr>\n",
       "      <th>1</th>\n",
       "      <td>Ivysaur</td>\n",
       "    </tr>\n",
       "    <tr>\n",
       "      <th>2</th>\n",
       "      <td>Venusaur</td>\n",
       "    </tr>\n",
       "    <tr>\n",
       "      <th>3</th>\n",
       "      <td>VenusaurMega Venusaur</td>\n",
       "    </tr>\n",
       "    <tr>\n",
       "      <th>4</th>\n",
       "      <td>Charmander</td>\n",
       "    </tr>\n",
       "    <tr>\n",
       "      <th>...</th>\n",
       "      <td>...</td>\n",
       "    </tr>\n",
       "    <tr>\n",
       "      <th>795</th>\n",
       "      <td>Diancie</td>\n",
       "    </tr>\n",
       "    <tr>\n",
       "      <th>796</th>\n",
       "      <td>DiancieMega Diancie</td>\n",
       "    </tr>\n",
       "    <tr>\n",
       "      <th>797</th>\n",
       "      <td>HoopaHoopa Confined</td>\n",
       "    </tr>\n",
       "    <tr>\n",
       "      <th>798</th>\n",
       "      <td>HoopaHoopa Unbound</td>\n",
       "    </tr>\n",
       "    <tr>\n",
       "      <th>799</th>\n",
       "      <td>Volcanion</td>\n",
       "    </tr>\n",
       "  </tbody>\n",
       "</table>\n",
       "<p>800 rows × 1 columns</p>\n",
       "</div>"
      ],
      "text/plain": [
       "                      Name\n",
       "0                Bulbasaur\n",
       "1                  Ivysaur\n",
       "2                 Venusaur\n",
       "3    VenusaurMega Venusaur\n",
       "4               Charmander\n",
       "..                     ...\n",
       "795                Diancie\n",
       "796    DiancieMega Diancie\n",
       "797    HoopaHoopa Confined\n",
       "798     HoopaHoopa Unbound\n",
       "799              Volcanion\n",
       "\n",
       "[800 rows x 1 columns]"
      ]
     },
     "execution_count": 5,
     "metadata": {},
     "output_type": "execute_result"
    }
   ],
   "source": [
    "'''\n",
    "1. ¿Cuántos pokémon hay en el dataset?\n",
    "'''\n",
    "df[[\"Name\"]]"
   ]
  },
  {
   "cell_type": "code",
   "execution_count": 6,
   "metadata": {},
   "outputs": [
    {
     "data": {
      "text/plain": [
       "28"
      ]
     },
     "execution_count": 6,
     "metadata": {},
     "output_type": "execute_result"
    }
   ],
   "source": [
    "'''\n",
    "2. ¿Cuántos pokémon hay de tipo Poison? (Type 1)\n",
    "'''\n",
    "pokemon_Type1 = df[\"Type 1\"]== \"Poison\"\n",
    "df[pokemon_Type1]\n",
    "len(df[pokemon_Type1])\n"
   ]
  },
  {
   "cell_type": "code",
   "execution_count": 9,
   "metadata": {},
   "outputs": [
    {
     "name": "stdout",
     "output_type": "stream",
     "text": [
      "{'Water', 'Ground', 'Bug', 'Rock', 'Dark', 'Normal', 'Electric', 'Dragon', 'Fairy', 'Ice', 'Fire', 'Poison', 'Steel', 'Fighting', 'Psychic', 'Ghost', 'Flying', 'Grass'}\n",
      "18\n"
     ]
    }
   ],
   "source": [
    "'''\n",
    "3. ¿Cuántos tipos diferentes de pokémon hay? (Type 1)\n",
    "'''\n",
    "pokemon_Type_1 = df[\"Type 1\"]\n",
    "different_type1= set(pokemon_Type_1)\n",
    "print(different_type1)\n",
    "print(len(different_type1))"
   ]
  },
  {
   "cell_type": "code",
   "execution_count": 66,
   "metadata": {},
   "outputs": [
    {
     "name": "stdout",
     "output_type": "stream",
     "text": [
      "Type 1\n",
      "Water       112\n",
      "Normal       98\n",
      "Grass        70\n",
      "Bug          69\n",
      "Psychic      57\n",
      "Fire         52\n",
      "Electric     44\n",
      "Rock         44\n",
      "Ghost        32\n",
      "Ground       32\n",
      "Dragon       32\n",
      "Dark         31\n",
      "Poison       28\n",
      "Fighting     27\n",
      "Steel        27\n",
      "Ice          24\n",
      "Fairy        17\n",
      "Flying        4\n",
      "Name: Name, dtype: int64\n",
      "Water is the majority type of pokemons with a number of 112\n"
     ]
    }
   ],
   "source": [
    "'''\n",
    "2. ¿Cuántos pokémon hay de cada tipo? (Type 1)\n",
    "'''\n",
    "number_each_type1= df.groupby([\"Type 1\"])[\"Name\"].count().sort_values(ascending=False)\n",
    "print(number_each_type1)\n",
    "\n",
    "\n",
    "'''\n",
    "2.1 ¿cual es el tipo de pokémon con más pokémon? (Type 1)\n",
    "\n",
    "'''\n",
    "\n",
    "#print(number_each_type1.keys()[0])\n",
    "\n",
    "#df2=df.iloc[:, 0]\n",
    "max_number_pokemon= max(number_each_type1)\n",
    "print(number_each_type1.keys()[0], \"is the majority type of pokemons with a number of\",max_number_pokemon)\n"
   ]
  },
  {
   "cell_type": "code",
   "execution_count": 78,
   "metadata": {},
   "outputs": [
    {
     "data": {
      "text/plain": [
       "'\\n3. ¿Cuál es el pokémon más rápido?\\n'"
      ]
     },
     "execution_count": 78,
     "metadata": {},
     "output_type": "execute_result"
    }
   ],
   "source": [
    "'''\n",
    "3. ¿Cuál es el pokémon más rápido?\n",
    "'''\n",
    "\n"
   ]
  },
  {
   "cell_type": "code",
   "execution_count": 50,
   "metadata": {},
   "outputs": [],
   "source": [
    "'''\n",
    "4. ¿Cuántos pokemon tiene una defensa superior a 100?\n",
    "'''\n",
    "\n",
    "'''\n",
    "4.1 ¿Cuántos pokemon tiene una defensa superior a 100?\n",
    "'''\n"
   ]
  },
  {
   "cell_type": "code",
   "execution_count": null,
   "metadata": {},
   "outputs": [],
   "source": [
    "'''\n",
    "5. ¿Cuántos pokemon tiene una defensa superior a 100 y una velocidad superior a 100?\n",
    "'''"
   ]
  },
  {
   "cell_type": "code",
   "execution_count": null,
   "metadata": {},
   "outputs": [],
   "source": [
    "'''\n",
    "6. Ordena el dataset por el tipo 1 y por el tipo 2\n",
    "'''"
   ]
  },
  {
   "cell_type": "code",
   "execution_count": null,
   "metadata": {},
   "outputs": [],
   "source": [
    "'''\n",
    "7. Crea un nuevo dataset con los pokémon de tipo Water y Fire como primer tipo\n",
    "'''"
   ]
  },
  {
   "cell_type": "code",
   "execution_count": null,
   "metadata": {},
   "outputs": [],
   "source": [
    "'''\n",
    "8. Crea un nuevo dataset con los pokemon Legendary\n",
    "'''"
   ]
  },
  {
   "cell_type": "code",
   "execution_count": null,
   "metadata": {},
   "outputs": [],
   "source": [
    "'''\n",
    "9. Calcula el promedio de stats de los pokemon Legendary (HP, Attack, Defense, Sp. Atk, Sp. Def, Speed) y los no Legendary\n",
    "'''"
   ]
  },
  {
   "cell_type": "code",
   "execution_count": null,
   "metadata": {},
   "outputs": [],
   "source": [
    "'''\n",
    "10. Crea un nuevo dataframe con el resultado del anterior ejercicio comparando ambos promedios\n",
    "\n",
    "ejemplo:\n",
    "                HP  Attack  Defense  Sp. Atk  Sp. Def  Speed\n",
    "Legendary       99      90       89       91       94     90\n",
    "No Legendary    80      95       75       12       43     87\n",
    "\n",
    "'''"
   ]
  },
  {
   "cell_type": "code",
   "execution_count": null,
   "metadata": {},
   "outputs": [],
   "source": [
    "'''\n",
    "11. Añade una nueva colunma ['Doble tipo'] al dataframe inicial que inndique si el pokemo tiene dos tipos o no\n",
    "'''"
   ]
  },
  {
   "cell_type": "code",
   "execution_count": null,
   "metadata": {},
   "outputs": [],
   "source": [
    "'''\n",
    "12. Muestra las columas Name, Type 1, Type 2 de los pokémon que tienen dos tipos y ordenalos por Type 1 , Type 2 y Name\n",
    "'''"
   ]
  },
  {
   "cell_type": "code",
   "execution_count": 18,
   "metadata": {},
   "outputs": [],
   "source": [
    "from functools import reduce\n",
    "\n",
    "'''\n",
    "13. Dada una lista de Artículos con sus precio. Define las siguientes funciones:\n",
    "Puedes definir más funciones si lo consideras necesario.\n",
    "'''\n",
    "articulos = {\n",
    "    'Camisa': 20,\n",
    "    'Pantalón': 30,\n",
    "    'Calcetines': 5,\n",
    "    'Zapatos': 50,\n",
    "    'Gorra': 10,\n",
    "    'Bufanda': 15,\n",
    "    'Gafas': 25,\n",
    "    'Reloj': 35,\n",
    "    'Corbata': 40,\n",
    "}\n",
    "\n",
    "compra = ['Camisa', 'Pantalón', 'Pantalón', 'Gorra', 'Gafas', 'Corbata']\n",
    "\n",
    "\n",
    "# A. Una función que calcule el precio total de la compra\n",
    "\n",
    "# B. Una función que calcule el precio total de la compra con un descuento del 10%\n",
    "\n",
    "# C. Una función que calcule el precio total de la compra con un descuento del 10% si la compra supera los 100€\n",
    "\n",
    "# D. Una función que calcule el precio total aplicando el IVA (21%)\n",
    "\n",
    "# E.lista los artículos cuyo precio es superior a 20€"
   ]
  },
  {
   "cell_type": "code",
   "execution_count": null,
   "metadata": {},
   "outputs": [],
   "source": [
    "'''\n",
    "14. Dada una lista de tuplas con el nombre de un alumno, apellidos, curso y sus notas. \n",
    "\n",
    " Define una funcion que reciba el curso y saque una lista en la que aparezca e nombre y apellidos y el promedio de sus notas.\n",
    " Puedes definir más funciones si lo consideras necesario.\n",
    "'''\n",
    "\n",
    "alumnos = [('Juan', 'Pérez', '1', [5, 6, 7, 8, 9]),\n",
    "            ('Ana', 'García', '2', [5, 6, 7, 8, 9]),\n",
    "            ('Luis', 'González', '1', [5, 6, 7, 8, 9]),\n",
    "            ('María', 'Martínez', '2', [5, 6, 7, 8, 9]),\n",
    "            ('Pedro', 'Rodríguez', '1', [5, 6, 7, 8, 9]),\n",
    "            ('Lucía', 'Hernández', '2', [5, 6, 7, 8, 9]),\n",
    "            ('Marta', 'López', '1', [5, 6, 7, 8, 9]),\n",
    "            ('Sara', 'Díaz', '2', [5, 6, 7, 8, 9]),\n",
    "            ('Javier', 'Sánchez', '1', [5, 6, 7, 8, 9]),\n",
    "            ('Miguel', 'Fernández', '2', [5, 6, 7, 8, 9]),\n",
    "            ('Sergio', 'Jiménez', '1', [5, 6, 7, 8, 9]),\n",
    "            ('Sandra', 'Ruiz', '2', [5, 6, 7, 8, 9]),\n",
    "            ('Pablo', 'Álvarez', '1', [5, 6, 7, 8, 9]),\n",
    "            ('María', 'Gómez', '2', [5, 6, 7, 8, 9]),\n",
    "]"
   ]
  }
 ],
 "metadata": {
  "kernelspec": {
   "display_name": "Python 3.9.12 ('base')",
   "language": "python",
   "name": "python3"
  },
  "language_info": {
   "codemirror_mode": {
    "name": "ipython",
    "version": 3
   },
   "file_extension": ".py",
   "mimetype": "text/x-python",
   "name": "python",
   "nbconvert_exporter": "python",
   "pygments_lexer": "ipython3",
   "version": "3.9.12"
  },
  "orig_nbformat": 4,
  "vscode": {
   "interpreter": {
    "hash": "f99efa1bd32e7be3aa80b712965b4947c10e6e53a96398fbe0a7201fc7427f67"
   }
  }
 },
 "nbformat": 4,
 "nbformat_minor": 2
}
